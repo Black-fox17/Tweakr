{
 "cells": [
  {
   "cell_type": "code",
   "execution_count": 1,
   "metadata": {},
   "outputs": [],
   "source": [
    "import pandas as pd"
   ]
  },
  {
   "cell_type": "code",
   "execution_count": 2,
   "metadata": {},
   "outputs": [],
   "source": [
    "df = pd.read_csv(\"papers_data.csv\")"
   ]
  },
  {
   "cell_type": "code",
   "execution_count": 3,
   "metadata": {},
   "outputs": [
    {
     "data": {
      "text/html": [
       "<div>\n",
       "<style scoped>\n",
       "    .dataframe tbody tr th:only-of-type {\n",
       "        vertical-align: middle;\n",
       "    }\n",
       "\n",
       "    .dataframe tbody tr th {\n",
       "        vertical-align: top;\n",
       "    }\n",
       "\n",
       "    .dataframe thead th {\n",
       "        text-align: right;\n",
       "    }\n",
       "</style>\n",
       "<table border=\"1\" class=\"dataframe\">\n",
       "  <thead>\n",
       "    <tr style=\"text-align: right;\">\n",
       "      <th></th>\n",
       "      <th>title</th>\n",
       "      <th>pub_date</th>\n",
       "      <th>url</th>\n",
       "      <th>keywords</th>\n",
       "      <th>category</th>\n",
       "      <th>id</th>\n",
       "      <th>collection_name</th>\n",
       "      <th>authors</th>\n",
       "      <th>is_processed</th>\n",
       "    </tr>\n",
       "  </thead>\n",
       "  <tbody>\n",
       "    <tr>\n",
       "      <th>0</th>\n",
       "      <td>Quantum diffusion and delocalization in one-di...</td>\n",
       "      <td>2024-12-19</td>\n",
       "      <td>http://arxiv.org/abs/2412.15207v1</td>\n",
       "      <td>{\"Quantum diffusion\",Delocalization,\"Band matr...</td>\n",
       "      <td>quantum_physics</td>\n",
       "      <td>139</td>\n",
       "      <td>quantum_physics</td>\n",
       "      <td>Sofiia Dubova, Kevin Yang</td>\n",
       "      <td>True</td>\n",
       "    </tr>\n",
       "    <tr>\n",
       "      <th>1</th>\n",
       "      <td>A Finite-Time Quantum Otto Engine subject to C...</td>\n",
       "      <td>2024-12-19</td>\n",
       "      <td>http://arxiv.org/abs/2412.15196v1</td>\n",
       "      <td>{\"Quantum Otto Engine\",\"Control Noise\",\"Quantu...</td>\n",
       "      <td>quantum_physics</td>\n",
       "      <td>140</td>\n",
       "      <td>quantum_physics</td>\n",
       "      <td>Theodore McKeever, Owen Diba, Ahsan Nazir</td>\n",
       "      <td>True</td>\n",
       "    </tr>\n",
       "    <tr>\n",
       "      <th>2</th>\n",
       "      <td>Wide-band quantum interface for visible-to-tel...</td>\n",
       "      <td>2011-06-09</td>\n",
       "      <td>http://dx.doi.org/10.1038/ncomms1544</td>\n",
       "      <td>{\"Quantum Interface\",\"Wavelength Conversion\",V...</td>\n",
       "      <td>quantum_physics</td>\n",
       "      <td>141</td>\n",
       "      <td>quantum_physics</td>\n",
       "      <td>Rikizo Ikuta, Yoshiaki Kusaka, Tsuyoshi Kitano...</td>\n",
       "      <td>True</td>\n",
       "    </tr>\n",
       "    <tr>\n",
       "      <th>3</th>\n",
       "      <td>Silicon CMOS architecture for a spin-based qua...</td>\n",
       "      <td>2016-09-30</td>\n",
       "      <td>http://dx.doi.org/10.1038/s41467-017-01905-6</td>\n",
       "      <td>{\"\\\"* **Quantum Computing:** This is the overa...</td>\n",
       "      <td>quantum_physics</td>\n",
       "      <td>142</td>\n",
       "      <td>quantum_physics</td>\n",
       "      <td>M. Veldhorst, H. G. J. Eenink, C. H. Yang, A. ...</td>\n",
       "      <td>True</td>\n",
       "    </tr>\n",
       "    <tr>\n",
       "      <th>4</th>\n",
       "      <td>From black hole interior to quantum complexity...</td>\n",
       "      <td>2024-12-19</td>\n",
       "      <td>http://arxiv.org/abs/2412.15183v1</td>\n",
       "      <td>{\"Black hole interior\",\"Quantum complexity\",\"O...</td>\n",
       "      <td>quantum_physics</td>\n",
       "      <td>143</td>\n",
       "      <td>quantum_physics</td>\n",
       "      <td>Alexey Milekhin</td>\n",
       "      <td>True</td>\n",
       "    </tr>\n",
       "  </tbody>\n",
       "</table>\n",
       "</div>"
      ],
      "text/plain": [
       "                                               title    pub_date  \\\n",
       "0  Quantum diffusion and delocalization in one-di...  2024-12-19   \n",
       "1  A Finite-Time Quantum Otto Engine subject to C...  2024-12-19   \n",
       "2  Wide-band quantum interface for visible-to-tel...  2011-06-09   \n",
       "3  Silicon CMOS architecture for a spin-based qua...  2016-09-30   \n",
       "4  From black hole interior to quantum complexity...  2024-12-19   \n",
       "\n",
       "                                            url  \\\n",
       "0             http://arxiv.org/abs/2412.15207v1   \n",
       "1             http://arxiv.org/abs/2412.15196v1   \n",
       "2          http://dx.doi.org/10.1038/ncomms1544   \n",
       "3  http://dx.doi.org/10.1038/s41467-017-01905-6   \n",
       "4             http://arxiv.org/abs/2412.15183v1   \n",
       "\n",
       "                                            keywords         category   id  \\\n",
       "0  {\"Quantum diffusion\",Delocalization,\"Band matr...  quantum_physics  139   \n",
       "1  {\"Quantum Otto Engine\",\"Control Noise\",\"Quantu...  quantum_physics  140   \n",
       "2  {\"Quantum Interface\",\"Wavelength Conversion\",V...  quantum_physics  141   \n",
       "3  {\"\\\"* **Quantum Computing:** This is the overa...  quantum_physics  142   \n",
       "4  {\"Black hole interior\",\"Quantum complexity\",\"O...  quantum_physics  143   \n",
       "\n",
       "   collection_name                                            authors  \\\n",
       "0  quantum_physics                          Sofiia Dubova, Kevin Yang   \n",
       "1  quantum_physics          Theodore McKeever, Owen Diba, Ahsan Nazir   \n",
       "2  quantum_physics  Rikizo Ikuta, Yoshiaki Kusaka, Tsuyoshi Kitano...   \n",
       "3  quantum_physics  M. Veldhorst, H. G. J. Eenink, C. H. Yang, A. ...   \n",
       "4  quantum_physics                                    Alexey Milekhin   \n",
       "\n",
       "   is_processed  \n",
       "0          True  \n",
       "1          True  \n",
       "2          True  \n",
       "3          True  \n",
       "4          True  "
      ]
     },
     "execution_count": 3,
     "metadata": {},
     "output_type": "execute_result"
    }
   ],
   "source": [
    "df.head(\n",
    ")"
   ]
  },
  {
   "cell_type": "code",
   "execution_count": 11,
   "metadata": {},
   "outputs": [
    {
     "data": {
      "text/plain": [
       "False"
      ]
     },
     "execution_count": 11,
     "metadata": {},
     "output_type": "execute_result"
    }
   ],
   "source": [
    "df[\"title\"].duplicated().any()"
   ]
  },
  {
   "cell_type": "code",
   "execution_count": 4,
   "metadata": {},
   "outputs": [
    {
     "data": {
      "text/plain": [
       "['Sofiia Dubova, Kevin Yang',\n",
       " 'Theodore McKeever, Owen Diba, Ahsan Nazir',\n",
       " 'Rikizo Ikuta, Yoshiaki Kusaka, Tsuyoshi Kitano, Hiroshi Kato, Takashi Yamamoto, Masato Koashi, Nobuyuki Imoto',\n",
       " 'M. Veldhorst, H. G. J. Eenink, C. H. Yang, A. S. Dzurak',\n",
       " 'Alexey Milekhin',\n",
       " 'Jorge Noreña, Thiago Pereira, Sean K. Reynolds',\n",
       " 'Talal Ahmed Chowdhury, Kwangmin Yu, Muhammad Asaduzzaman, Raza Sabbir Sufian',\n",
       " 'J. Beugnon, C. Tuchendler, H. Marion, A. Gaetan, Y. Miroshnychenko, Y. R. P. Sortais, A. M. Lance, M. P. A. Jones, G. Messin, A. Browaeys, P. Grangier',\n",
       " 'Matteo Della Rocca, Georgios Antoniou, Leonardo Gualtieri, Andrea Maselli',\n",
       " 'Tarek Khalil, Daniel Grucker',\n",
       " 'Younghun Kim, Martin Sevior, Muhammad Usman',\n",
       " 'Yang Bai, Sida Lu, Nicholas Orlofsky',\n",
       " 'Kelsie Taylor, Derek Davis, Rico K. L. Lo',\n",
       " 'Kunal Marwaha, Adrian She, James Sud',\n",
       " 'Antonia Seifert, Zachary G. Lane, Marco Galoppo, Ryan Ridden-Harper, David L. Wiltshire',\n",
       " 'J. Hwang, H. Noh',\n",
       " 'Michael Hanks, Soovin Lee, Nicolo Lo Piparo, Shin Nishio, William J. Munro, Kae Nemoto, M. S. Kim',\n",
       " 'Dong-Mei Xia, Sai Wang',\n",
       " 'Rajendra Prasad Bhatt, Sumanta Chakraborty, Sukanta Bose',\n",
       " 'Filip Novotný, Marek Talíř, Emil Varga',\n",
       " 'Noemi Anau Montel, James Alvey, Christoph Weniger',\n",
       " 'Emmanuel Chávez Nambo, Alberto Diez-Tejedor, Armando A. Roque, Olivier Sarbach',\n",
       " 'Tom R. Hepworth, Daniel K. Ruttley, Fritz von Gierke, Philip D. Gregory, Alexander Guttridge, Simon L. Cornish',\n",
       " 'Sovik Roy, Aahaman Kalaiselvan, Chandrashekar Radhakrishnan, Md Manirul Ali',\n",
       " 'Pak Hang Chris Lau, Kanji Nishii, Toshifumi Noumi',\n",
       " 'Joey Bonitati',\n",
       " 'Hanzhi Jiang, Mike Blake, Anthony P. Thompson',\n",
       " 'Trung Kiên Lê, Daniil M. Lukin, Charles Roques-Carmes, Aviv Karnieli, Eran Lustig, Melissa A. Guidry, Shanhui Fan, Jelena Vučković',\n",
       " 'Alexey S. Koshelev, K. Sravan Kumar, Alexei A. Starobinsky',\n",
       " 'Wei Song, Qiang Wen, Jianfei Xu',\n",
       " 'Ye Yeo',\n",
       " 'Herschel A. Chawdhry, Mathieu Pellen',\n",
       " 'Daiki Komoto, Kenta Kasai',\n",
       " 'Belén Paredes',\n",
       " 'Marcelo A. Pires, Sílvio M. Duarte Queirós',\n",
       " 'Ignacy Sawicki, Georg Trenkler, Alexander Vikman',\n",
       " 'Marcos A. Ramirez, Cristián Martínez',\n",
       " 'Evan Wonisch, Jonas Mensing, Andreas Heuer',\n",
       " 'Maulik Parikh, Jude Pereira',\n",
       " 'Tao Han, Matthew Low, Navin McGinnis, Shufang Su',\n",
       " 'K. S. Babu, Bhaskar Dutta, Rabindra N. Mohapatra',\n",
       " 'Clay Cordova, Diego García-Sepúlveda, Nicholas Holfester',\n",
       " 'Sunmyon Chon, Shingo Hirano, Takashi Hosokawa, Naoki Yoshida',\n",
       " 'Motohiko Ezawa',\n",
       " 'Oscar Castillo-Felisola, Bastian Grez, Manuel Morocho-López, Jose Perdiguero, Aureliano Skirzewski, Jefferson Vaca, Nicolas Zambra-Gómez',\n",
       " 'Ching-Feng Kung, Kao-Yueh Kuo, Ching-Yi Lai',\n",
       " 'A. Bermudez Martinez, F. Hautmann, L. Keersmaekers, A. Lelek, M. Mendizabal Morentin, S. Taheri Monfared, A. M. van Kampen',\n",
       " 'Sergei G. Ovchinnikov',\n",
       " 'Pengwei Zhao, Gang v. Chen',\n",
       " 'Ritam Pal, Aanjaneya Kumar, M. S. Santhanam',\n",
       " 'Lennart Ante, Aman Saggu',\n",
       " 'Mehran Ebrahimi, Masayuki Yano',\n",
       " 'Alvin Gonzales',\n",
       " 'Abhinav Prem, Michael Pretko, Rahul Nandkishore',\n",
       " 'Andreas von Manteuffel, Robert M. Schabinger',\n",
       " 'Seyma Gonul, Yasin Hasanoglu, Ayse Tiryakioglu, Yasemin Calis, Cihangir Ozemir',\n",
       " 'Lluís Hernández-Navarro, Kenneth Distefano, Uwe C. Täuber, Mauro Mobilia',\n",
       " 'E. T. Jensen',\n",
       " 'S. A. Sim, M. Kromer, F. K. Roepke, E. I. Sorokina, S. I. Blinnikov, D. Kasen, W. Hillebrandt',\n",
       " 'Jiayin Gu',\n",
       " 'Yiman Xu, Grant J. Dixon, Qing Xie, James F. Gilchrist, Brandi M. Cossairt, David S. Ginger, Elsa Reichmanis',\n",
       " 'Jen-Tsung Hsiang, Onat Arısoy, Bei-Lok Hu',\n",
       " 'M. Mirón, E. Sadurní',\n",
       " 'Chaim Even-Zohar, Tsviqa Lakrec, Ran J. Tessler',\n",
       " \"Henry Freund, Peter van der Slot, Patrick O'Shea\",\n",
       " 'Paola C. M. Delgado, Alexander Ganz, Chunshan Lin, Roxane Thériault',\n",
       " 'Mahdi Saberi, Chi Zhang, Mehmet Akcakaya',\n",
       " 'Giuseppe Nardulli',\n",
       " 'Stefan Vandoren',\n",
       " 'Orlando Panella, Simone Pacetti, Giorgio Immirzi, Yogendra N. Srivastava',\n",
       " 'Gane Samb Lo, Pape Djiby Mergane, Tchilabalo Abozou Kpanzou',\n",
       " 'Siyuan Huang, Liliang Chen, Pengfei Zhou, Shengcong Chen, Zhengkai Jiang, Yue Hu, Peng Gao, Hongsheng Li, Maoqing Yao, Guanghui Ren',\n",
       " 'Giuseppe Marino, Alexander S. Solntsev, Lei Xu, Valerio F. Gili, Luca Carletti, Alexander N. Poddubny, Mohsen Rahmani, Daria A. Smirnova, Haitao Chen, Aristide Lemaître, Guoquan Zhang, Anatoly V. Zayats, Costantino De Angelis, Giuseppe Leo, Andrey A. Sukhorukov, Dragomir N. Neshev',\n",
       " 'Dilshod D. Nematov, Amondulloi S. Burkhonzoda, Mekhrdod S. Kurboniyon, Umar Zafari, Kholmirzo T. Kholmurodov, Mikhail G. Brik, Tomoyuki Yamamoto, Farhod Shokir',\n",
       " 'J. B. Marston, Daniel E. Ibarra',\n",
       " 'J. S. Castellanos Durán, A. Korpi-Lagg, S. K. Solanki, M. van Noort, N. Milanovic',\n",
       " 'Jiaqi Yang, Enming Liang, Zicheng Su, Zhichao Zou, Peng Zhen, Jiecheng Guo, Wanjing Ma, Kun An',\n",
       " 'Suman Dolui, Kaushlender Singh, Bharat Hegde, T. Macwan, SK Injamul Hoque, Umesh Nagora, Jaya Kumar A., S. Purohit, A. N. Adhiya, K. A. Jadeja, Harshita Raj, Ankit Kumar, Ashok K. Kumawat, Suman Aich, Rohit Kumar, K. M. Patel, P. Gautam, Sharvil Patel, N. Yadava, N. Ramaiya, M. K. Gupta, S. K. Pathak, M. B. Chowdhuri, S. Sharma, A. Kuley, R. L. Tanna, P. K. Chattopadhyay, A. Sen, Y. C. Saxena, R. Pal, Joydeep Ghosh',\n",
       " 'Thomas Chuna, Nicholas Barnfield, Tobias Dornheim, Michael P. Friedlander, Tim Hoheisel',\n",
       " 'Christoforos Kassianides, Alain Goriely, Hadrien Oliveri',\n",
       " 'Peio Garcia-Goiricelaya, Idoia G. Gurtubay, Asier Eiguren',\n",
       " 'Zaizhou Xin, Yang Zhong, Xingao Gong, Hongjun Xiang',\n",
       " 'Pei-Xin Zhu, Xiao-Ping Zheng',\n",
       " 'Simon Knapen, Andrea Thamm',\n",
       " 'Forrest Mozer, Oleksiy Agapitov, Kyung-Eu Choi, Richard Sydora',\n",
       " 'Zain Ul Abedin, Shahzeb Qamar, Lucie Flek, Akbar Karimi',\n",
       " 'Yaowen Ye, Cassidy Laidlaw, Jacob Steinhardt',\n",
       " 'Mahmoudi Y.',\n",
       " 'Mukai K.',\n",
       " 'Masako Shimizu, Hideaki Shirota',\n",
       " 'Yusuf Barış Kartal',\n",
       " 'Oihane Echeverria-Altuna, Pablo Benguria, Ainara Saralegi, Isabel Harismendy, Arantxa Eceiza',\n",
       " 'Derman Akşit, Cigdem Sayil, Gülin Selda Pozan Soylu',\n",
       " 'José María González-Jiménez, Igor González-Pérez, Gaëlle Plissart, Amira R. Ferreira, Erwin Schettino, Lola Yesares, Manuel E. Schilling, Alexandre Corgne, Fernando Gervilla',\n",
       " 'Xi Wang, Jun Jiang, Ling Hong, Jian-Qiao Sun',\n",
       " 'Subhendu Dhibar, Arka Dey, Bijnaneswar Mondal, Kripasindhu Karmakar, Arpita Roy, Subham Bhattacharjee, Aditi Trivedi, Aiswarya Mohan, Ratnakar Saha, Priyajit Chatterjee, Aniruddha Mondal, Timothy O. Ajiboye, Bidyut Saha',\n",
       " 'Barus O.P.',\n",
       " 'van Dijk J.G.W.',\n",
       " 'Mundoga T.',\n",
       " 'Helfaya A.',\n",
       " 'Papagiannidis E.',\n",
       " 'Yang T.',\n",
       " 'Zhang K.',\n",
       " 'Orazalin N.S.',\n",
       " 'Mango F.',\n",
       " 'Johannessen S.',\n",
       " 'Meroño-Peñuela A.',\n",
       " 'Shakil M.H.',\n",
       " 'Abrams E.',\n",
       " 'Nadežda Jankelová, Ildikó Némethová, Marina Dabić, Andreas Kallmuenzer',\n",
       " 'Katarína Šipulová, David Kosař',\n",
       " 'Salvatore Ammirato, Alberto Michele Felicetti, Serena Filippelli, Thomas Maran',\n",
       " 'Olena Uvarova',\n",
       " 'Thong Anh Tran, Dung Duc Tran, Oc Van Vo, Van Huynh Thanh Pham, Hieu Van Tran, Ming Li Yong, Phu Viet Le, Phu Thanh Dang',\n",
       " 'Anneli Matsson',\n",
       " 'Francisco Bravo-Urquiza, Nuria Reguera-Alvarado',\n",
       " 'Ian Hardy',\n",
       " 'Lutz Thieme',\n",
       " 'Sean Goodwin, Marta Olazabal, Antonio J. Castro, Unai Pascual',\n",
       " 'Khadivar H.',\n",
       " 'Fedaseyeu V.',\n",
       " 'Honey D.',\n",
       " 'Christopher Lyon',\n",
       " 'Paula Andrea Echeverri Sucerquia, Cristian Andrés Medina Rúa',\n",
       " 'Ceyhun Elgin',\n",
       " 'Anna-Maria Strittmatter, Chris Horbel, Josephine Traberg, Julius Z. Strömberg, Annika Bodemar, Allan B. Grønkjær, Dag Vidar Hanstad',\n",
       " 'Stefano Abbate, Piera Centobelli, Maria Di Gregorio',\n",
       " 'Chou Y.',\n",
       " 'Wilkesmann M.',\n",
       " 'Shaik A.S.',\n",
       " 'Joshi S.',\n",
       " 'Jackson D.',\n",
       " 'Angelshaug M.S.',\n",
       " 'Correa-Peralta M.',\n",
       " 'Di Paola N.',\n",
       " 'Marcin Suder, Rafał Kusa, Joanna Duda, Jarosław Karpacz',\n",
       " 'Valerio Veglio, Rubina Romanello, Torben Pedersen',\n",
       " 'Robin Hirt, Niklas Kühl, Dominik Martin, Gerhard Satzger',\n",
       " 'Stefan Heusinkveld, Armand Smits',\n",
       " 'Tomasz Widłak']"
      ]
     },
     "execution_count": 4,
     "metadata": {},
     "output_type": "execute_result"
    }
   ],
   "source": [
    "df[\"authors\"].to_list()"
   ]
  },
  {
   "cell_type": "code",
   "execution_count": 16,
   "metadata": {},
   "outputs": [],
   "source": [
    "test1 = ['The Rule of Law and Corporate Actors: Measuring Influence', 'Flying safe: The impact of corporate governance on aviation safety', 'The impact of governance quality on corporate climate risk disclosure: The role of the governance committee', 'Enhancing organizational citizenship behavior towards the environment', 'Pursuing a corporate sustainable identity: Green governance strategy, hybrid vehicle development, knowledge and sustainability performance', 'Corporate governance, national governance quality, and biodiversity reporting: Global evidence', 'Voter Turnouts Govern Key Electoral Statistics', 'Anticipatory macroeconomic governance: exploring future-oriented strategies for economic resilience and sustainability', 'Navigating paradoxical tension: the influence of big corporations on startup sustainability performance in asymmetric collaborations', 'The role of multiple board directorships in sustainability strategies: symbol or substance?', 'Wine waste valorisation: crushing the research domain']\n",
    "test2 = ['Olena Uvarova', 'Olena Uvarova', 'Olena Uvarova', 'Khadivar H.', 'Honey D.', 'Nadežda Jankelová, Ildikó Némethová, Marina Dabić, Andreas Kallmuenzer', 'Helfaya A.', 'Olena Uvarova', 'Orazalin N.S.', 'Orazalin N.S.', 'Honey D.', 'Ritam Pal, Aanjaneya Kumar, M. S. Santhanam', 'Ceyhun Elgin', 'Salvatore Ammirato, Alberto Michele Felicetti, Serena Filippelli, Thomas Maran', 'Olena Uvarova', 'Helfaya A.', 'Orazalin N.S.', 'Ceyhun Elgin', 'Honey D.', 'Olena Uvarova', 'Olena Uvarova', 'Olena Uvarova', 'Francisco Bravo-Urquiza, Nuria Reguera-Alvarado', 'Honey D.', 'Olena Uvarova', 'Orazalin N.S.', 'Ceyhun Elgin', 'Ceyhun Elgin', 'Stefano Abbate, Piera Centobelli, Maria Di Gregorio', 'Ceyhun Elgin', 'Orazalin N.S.', 'Orazalin N.S.', 'Olena Uvarova', 'Salvatore Ammirato, Alberto Michele Felicetti, Serena Filippelli, Thomas Maran', 'Honey D.', 'Helfaya A.', 'Khadivar H.', 'Ceyhun Elgin', 'Ceyhun Elgin', 'Helfaya A.']"
   ]
  },
  {
   "cell_type": "code",
   "execution_count": 17,
   "metadata": {},
   "outputs": [
    {
     "data": {
      "text/plain": [
       "40"
      ]
     },
     "execution_count": 17,
     "metadata": {},
     "output_type": "execute_result"
    }
   ],
   "source": [
    "len(test2)"
   ]
  },
  {
   "cell_type": "code",
   "execution_count": 18,
   "metadata": {},
   "outputs": [
    {
     "data": {
      "text/plain": [
       "11"
      ]
     },
     "execution_count": 18,
     "metadata": {},
     "output_type": "execute_result"
    }
   ],
   "source": [
    "len(test1)"
   ]
  },
  {
   "cell_type": "code",
   "execution_count": 19,
   "metadata": {},
   "outputs": [
    {
     "data": {
      "text/plain": [
       "11"
      ]
     },
     "execution_count": 19,
     "metadata": {},
     "output_type": "execute_result"
    }
   ],
   "source": [
    "len(set(test2))"
   ]
  },
  {
   "cell_type": "code",
   "execution_count": 20,
   "metadata": {},
   "outputs": [
    {
     "data": {
      "text/plain": [
       "True"
      ]
     },
     "execution_count": 20,
     "metadata": {},
     "output_type": "execute_result"
    }
   ],
   "source": [
    "title = \"Corporate governance, national governance quality, and biodiversity reporting: Global evidence\"\n",
    "title in test1"
   ]
  },
  {
   "cell_type": "code",
   "execution_count": null,
   "metadata": {},
   "outputs": [],
   "source": []
  }
 ],
 "metadata": {
  "kernelspec": {
   "display_name": "Python 3",
   "language": "python",
   "name": "python3"
  },
  "language_info": {
   "codemirror_mode": {
    "name": "ipython",
    "version": 3
   },
   "file_extension": ".py",
   "mimetype": "text/x-python",
   "name": "python",
   "nbconvert_exporter": "python",
   "pygments_lexer": "ipython3",
   "version": "3.12.2"
  }
 },
 "nbformat": 4,
 "nbformat_minor": 2
}
